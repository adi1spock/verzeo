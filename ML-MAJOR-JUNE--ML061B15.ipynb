{
 "cells": [
  {
   "cell_type": "markdown",
   "metadata": {},
   "source": [
    " <span style='background :white' ><span style='color :red' > CLEANING DATA(NULL VALUE REMOVAL,OUTLIER IDENTIFICATION) DROPPING ROWS/COLUMNS , IMPUTATION AND REASON TO DROP</span></span>"
   ]
  },
  {
   "cell_type": "markdown",
   "metadata": {},
   "source": [
    "DATA PREPROCESSING"
   ]
  },
  {
   "cell_type": "code",
   "execution_count": 1,
   "metadata": {},
   "outputs": [],
   "source": [
    "# importing libraries and setting max rows display\n",
    "import numpy\n",
    "import pandas as pd\n",
    "import matplotlib.pyplot as plt\n",
    "import numpy as np\n",
    "import math\n",
    "import seaborn as sns\n",
    "pd.set_option('display.max_rows', 10000)"
   ]
  },
  {
   "cell_type": "code",
   "execution_count": 2,
   "metadata": {},
   "outputs": [],
   "source": [
    "# reading dataset\n",
    "dataset=pd.read_csv(\"Data_Train.csv\")"
   ]
  },
  {
   "cell_type": "code",
   "execution_count": 3,
   "metadata": {},
   "outputs": [
    {
     "data": {
      "text/html": [
       "<div>\n",
       "<style scoped>\n",
       "    .dataframe tbody tr th:only-of-type {\n",
       "        vertical-align: middle;\n",
       "    }\n",
       "\n",
       "    .dataframe tbody tr th {\n",
       "        vertical-align: top;\n",
       "    }\n",
       "\n",
       "    .dataframe thead th {\n",
       "        text-align: right;\n",
       "    }\n",
       "</style>\n",
       "<table border=\"1\" class=\"dataframe\">\n",
       "  <thead>\n",
       "    <tr style=\"text-align: right;\">\n",
       "      <th></th>\n",
       "      <th>Name</th>\n",
       "      <th>Location</th>\n",
       "      <th>Year</th>\n",
       "      <th>Kilometers_Driven</th>\n",
       "      <th>Fuel_Type</th>\n",
       "      <th>Transmission</th>\n",
       "      <th>Owner_Type</th>\n",
       "      <th>Mileage</th>\n",
       "      <th>Engine</th>\n",
       "      <th>Power</th>\n",
       "      <th>Seats</th>\n",
       "      <th>Price</th>\n",
       "    </tr>\n",
       "  </thead>\n",
       "  <tbody>\n",
       "    <tr>\n",
       "      <td>0</td>\n",
       "      <td>Maruti Wagon R LXI CNG</td>\n",
       "      <td>Mumbai</td>\n",
       "      <td>2010</td>\n",
       "      <td>72000</td>\n",
       "      <td>CNG</td>\n",
       "      <td>Manual</td>\n",
       "      <td>First</td>\n",
       "      <td>26.6 km/kg</td>\n",
       "      <td>998 CC</td>\n",
       "      <td>58.16 bhp</td>\n",
       "      <td>5.0</td>\n",
       "      <td>1.75</td>\n",
       "    </tr>\n",
       "    <tr>\n",
       "      <td>1</td>\n",
       "      <td>Hyundai Creta 1.6 CRDi SX Option</td>\n",
       "      <td>Pune</td>\n",
       "      <td>2015</td>\n",
       "      <td>41000</td>\n",
       "      <td>Diesel</td>\n",
       "      <td>Manual</td>\n",
       "      <td>First</td>\n",
       "      <td>19.67 kmpl</td>\n",
       "      <td>1582 CC</td>\n",
       "      <td>126.2 bhp</td>\n",
       "      <td>5.0</td>\n",
       "      <td>12.50</td>\n",
       "    </tr>\n",
       "    <tr>\n",
       "      <td>2</td>\n",
       "      <td>Honda Jazz V</td>\n",
       "      <td>Chennai</td>\n",
       "      <td>2011</td>\n",
       "      <td>46000</td>\n",
       "      <td>Petrol</td>\n",
       "      <td>Manual</td>\n",
       "      <td>First</td>\n",
       "      <td>18.2 kmpl</td>\n",
       "      <td>1199 CC</td>\n",
       "      <td>88.7 bhp</td>\n",
       "      <td>5.0</td>\n",
       "      <td>4.50</td>\n",
       "    </tr>\n",
       "    <tr>\n",
       "      <td>3</td>\n",
       "      <td>Maruti Ertiga VDI</td>\n",
       "      <td>Chennai</td>\n",
       "      <td>2012</td>\n",
       "      <td>87000</td>\n",
       "      <td>Diesel</td>\n",
       "      <td>Manual</td>\n",
       "      <td>First</td>\n",
       "      <td>20.77 kmpl</td>\n",
       "      <td>1248 CC</td>\n",
       "      <td>88.76 bhp</td>\n",
       "      <td>7.0</td>\n",
       "      <td>6.00</td>\n",
       "    </tr>\n",
       "    <tr>\n",
       "      <td>4</td>\n",
       "      <td>Audi A4 New 2.0 TDI Multitronic</td>\n",
       "      <td>Coimbatore</td>\n",
       "      <td>2013</td>\n",
       "      <td>40670</td>\n",
       "      <td>Diesel</td>\n",
       "      <td>Automatic</td>\n",
       "      <td>Second</td>\n",
       "      <td>15.2 kmpl</td>\n",
       "      <td>1968 CC</td>\n",
       "      <td>140.8 bhp</td>\n",
       "      <td>5.0</td>\n",
       "      <td>17.74</td>\n",
       "    </tr>\n",
       "  </tbody>\n",
       "</table>\n",
       "</div>"
      ],
      "text/plain": [
       "                               Name    Location  Year  Kilometers_Driven  \\\n",
       "0            Maruti Wagon R LXI CNG      Mumbai  2010              72000   \n",
       "1  Hyundai Creta 1.6 CRDi SX Option        Pune  2015              41000   \n",
       "2                      Honda Jazz V     Chennai  2011              46000   \n",
       "3                 Maruti Ertiga VDI     Chennai  2012              87000   \n",
       "4   Audi A4 New 2.0 TDI Multitronic  Coimbatore  2013              40670   \n",
       "\n",
       "  Fuel_Type Transmission Owner_Type     Mileage   Engine      Power  Seats  \\\n",
       "0       CNG       Manual      First  26.6 km/kg   998 CC  58.16 bhp    5.0   \n",
       "1    Diesel       Manual      First  19.67 kmpl  1582 CC  126.2 bhp    5.0   \n",
       "2    Petrol       Manual      First   18.2 kmpl  1199 CC   88.7 bhp    5.0   \n",
       "3    Diesel       Manual      First  20.77 kmpl  1248 CC  88.76 bhp    7.0   \n",
       "4    Diesel    Automatic     Second   15.2 kmpl  1968 CC  140.8 bhp    5.0   \n",
       "\n",
       "   Price  \n",
       "0   1.75  \n",
       "1  12.50  \n",
       "2   4.50  \n",
       "3   6.00  \n",
       "4  17.74  "
      ]
     },
     "execution_count": 3,
     "metadata": {},
     "output_type": "execute_result"
    }
   ],
   "source": [
    "dataset.head()"
   ]
  },
  {
   "cell_type": "markdown",
   "metadata": {},
   "source": [
    "just checking the variables "
   ]
  },
  {
   "cell_type": "code",
   "execution_count": 4,
   "metadata": {},
   "outputs": [
    {
     "name": "stdout",
     "output_type": "stream",
     "text": [
      "[194, 208, 733, 749, 1294, 1327, 1385, 1460, 2074, 2096, 2264, 2325, 2335, 2530, 2542, 2623, 2668, 2737, 2780, 2842, 3272, 3404, 3520, 3522, 3810, 4011, 4152, 4229, 4577, 4604, 4697, 4712, 4952, 5015, 5185, 5270]\n"
     ]
    }
   ],
   "source": [
    "# here i have written code for selecting the rows which have more than 3 or more missing values\n",
    "index=[]\n",
    "for i in range(6019):\n",
    "    x=[]\n",
    "    count=0\n",
    "    for j in range(12):\n",
    "        x.append(dataset.iloc[i,j])\n",
    "    for k in x:\n",
    "        if type(k) is float or type(k) is numpy.float64:\n",
    "            if math.isnan(k):\n",
    "                count=count+1\n",
    "        if (count)>=3:\n",
    "            index.append(i)\n",
    "            count=0\n",
    "print(index)"
   ]
  },
  {
   "cell_type": "code",
   "execution_count": 5,
   "metadata": {},
   "outputs": [
    {
     "name": "stdout",
     "output_type": "stream",
     "text": [
      "6019\n"
     ]
    }
   ],
   "source": [
    "print(len(dataset))\n",
    "model_name=np.array([])\n",
    "model_name=dataset.iloc[:,0]\n",
    "location=np.array([])\n",
    "year=np.array([])\n",
    "km_driven=np.array([])\n",
    "fuel_type=np.array([])\n",
    "transmission=np.array([])\n",
    "owner=np.array([])\n",
    "mileage=np.array([])\n",
    "engine=np.array([])\n",
    "power=np.array([])\n",
    "seats=np.array([])\n",
    "price=np.array([])\n",
    "location=dataset.iloc[:,1]\n",
    "year=dataset.iloc[:,2]\n",
    "km_driven=dataset.iloc[:,3]\n",
    "fuel_type=dataset.iloc[:,4]\n",
    "transmission=dataset.iloc[:,5]\n",
    "owner=dataset.iloc[:,6]\n",
    "mileage=dataset.iloc[:,7]\n",
    "engine=dataset.iloc[:,8]\n",
    "power=dataset.iloc[:,9]\n",
    "seats=dataset.iloc[:,10]\n",
    "price=dataset.iloc[:,11]\n",
    "#6019"
   ]
  },
  {
   "cell_type": "markdown",
   "metadata": {},
   "source": [
    "OUTLIER DETECTION IN KM_DRIVEN SECTION ONE VALUE HAS MORE THAN 6 TIMES THE 2ND MAX VALUE AND ADDING IT TO INDICES OF ROWS THAT HAS TO BE REMOVED FROM DATASET"
   ]
  },
  {
   "cell_type": "code",
   "execution_count": 6,
   "metadata": {},
   "outputs": [
    {
     "name": "stdout",
     "output_type": "stream",
     "text": [
      "[194, 208, 733, 749, 1294, 1327, 1385, 1460, 2074, 2096, 2264, 2325, 2335, 2530, 2542, 2623, 2668, 2737, 2780, 2842, 3272, 3404, 3520, 3522, 3810, 4011, 4152, 4229, 4577, 4604, 4697, 4712, 4952, 5015, 5185, 5270]\n",
      "---------------------------------------------\n",
      "340\n",
      "358\n",
      "1860\n",
      "2328\n",
      "2823\n",
      "3092\n",
      "4491\n",
      "[194, 208, 733, 749, 1294, 1327, 1385, 1460, 2074, 2096, 2264, 2325, 2335, 2530, 2542, 2623, 2668, 2737, 2780, 2842, 3272, 3404, 3520, 3522, 3810, 4011, 4152, 4229, 4577, 4604, 4697, 4712, 4952, 5015, 5185, 5270, 340, 358, 1860, 2328, 2823, 3092, 4491]\n"
     ]
    }
   ],
   "source": [
    "print(index)\n",
    "print(\"---------------------------------------------\")\n",
    "a=[]\n",
    "count=0\n",
    "for i in km_driven:\n",
    "    if i>400000:\n",
    "        print(count)\n",
    "    count=count+1\n",
    "index=index+[340,358,1860,2328,2823,3092,4491]\n",
    "print(index)"
   ]
  },
  {
   "cell_type": "code",
   "execution_count": 7,
   "metadata": {},
   "outputs": [],
   "source": [
    "# removing the units of the terms in mileage,engine and power terms of the column\n",
    "count=0\n",
    "power1=power.copy()\n",
    "for i in power1:\n",
    "    x=''\n",
    "    if type(i) is float:\n",
    "        i=str(i)\n",
    "    for j in i:\n",
    "        if j==\"1\" or j==\"2\" or j==\"3\" or j==\"4\" or j==\"5\" or j==\"6\" or j==\"7\" or j==\"8\" or j==\"9\" or j==\"0\" or j==\".\" :\n",
    "            x=x+j\n",
    "        if x==\"\":\n",
    "            x=0\n",
    "    power1[count]=float(x)#try iloc\n",
    "    count=count+1  \n",
    "#print(len(power1))\n",
    "#6019\n",
    "\n",
    "\n",
    "##############################################################################################################################\n",
    "\n",
    "\n",
    "\n",
    "count=0\n",
    "engine1=engine.copy()\n",
    "for i in engine1:\n",
    "    x=''\n",
    "    if type(i) is float:\n",
    "        i=str(i)\n",
    "    for j in i:\n",
    "        if j==\"1\" or j==\"2\" or j==\"3\" or j==\"4\" or j==\"5\" or j==\"6\" or j==\"7\" or j==\"8\" or j==\"9\" or j==\"0\" or j==\".\" :\n",
    "            x=x+j\n",
    "        if x==\"\":\n",
    "            x=0\n",
    "    engine1[count]=float(x)\n",
    "    count=count+1\n",
    "    \n",
    "    \n",
    "    \n",
    "##################################################################################################################\n",
    "\n",
    "\n",
    "\n",
    "count=0\n",
    "mileage1=mileage.copy()\n",
    "for i in mileage1:\n",
    "    x=''\n",
    "    if type(i) is float:\n",
    "        i=str(i)\n",
    "    for j in i:\n",
    "        if j==\"1\" or j==\"2\" or j==\"3\" or j==\"4\" or j==\"5\" or j==\"6\" or j==\"7\" or j==\"8\" or j==\"9\" or j==\"0\" or j==\".\" :\n",
    "            x=x+j\n",
    "        if x==\"\":\n",
    "            x=0\n",
    "    mileage1[count]=float(x)\n",
    "    count=count+1  \n",
    "    \n",
    "    \n",
    "    \n",
    "#########################################################################################################################\n",
    "\n",
    "\n",
    "count=0\n",
    "seats1=seats.copy()\n",
    "for i in seats1:\n",
    "    x=''\n",
    "    if type(i) is float:\n",
    "        i=str(i)\n",
    "    for j in i:\n",
    "        if j==\"1\" or j==\"2\" or j==\"3\" or j==\"4\" or j==\"5\" or j==\"6\" or j==\"7\" or j==\"8\" or j==\"9\" or j==\"0\" or j==\".\" :\n",
    "            x=x+j\n",
    "        if x==\"\":\n",
    "            x=0\n",
    "    seats1[count]=float(x)\n",
    "    count=count+1  \n",
    "#6019\n",
    "\n"
   ]
  },
  {
   "cell_type": "code",
   "execution_count": 8,
   "metadata": {},
   "outputs": [
    {
     "name": "stdout",
     "output_type": "stream",
     "text": [
      "length after droping\n",
      "5976\n",
      "5976\n"
     ]
    },
    {
     "data": {
      "text/html": [
       "<div>\n",
       "<style scoped>\n",
       "    .dataframe tbody tr th:only-of-type {\n",
       "        vertical-align: middle;\n",
       "    }\n",
       "\n",
       "    .dataframe tbody tr th {\n",
       "        vertical-align: top;\n",
       "    }\n",
       "\n",
       "    .dataframe thead th {\n",
       "        text-align: right;\n",
       "    }\n",
       "</style>\n",
       "<table border=\"1\" class=\"dataframe\">\n",
       "  <thead>\n",
       "    <tr style=\"text-align: right;\">\n",
       "      <th></th>\n",
       "      <th>Name</th>\n",
       "      <th>Location</th>\n",
       "      <th>Year</th>\n",
       "      <th>Kilometers_Driven</th>\n",
       "      <th>Fuel_Type</th>\n",
       "      <th>Transmission</th>\n",
       "      <th>Owner_Type</th>\n",
       "      <th>Mileage</th>\n",
       "      <th>Engine</th>\n",
       "      <th>Power</th>\n",
       "      <th>Seats</th>\n",
       "      <th>Price</th>\n",
       "    </tr>\n",
       "  </thead>\n",
       "  <tbody>\n",
       "    <tr>\n",
       "      <td>0</td>\n",
       "      <td>Maruti Wagon R LXI CNG</td>\n",
       "      <td>Mumbai</td>\n",
       "      <td>2010</td>\n",
       "      <td>72000</td>\n",
       "      <td>CNG</td>\n",
       "      <td>Manual</td>\n",
       "      <td>First</td>\n",
       "      <td>26.60</td>\n",
       "      <td>998.0</td>\n",
       "      <td>58.16</td>\n",
       "      <td>5.0</td>\n",
       "      <td>1.75</td>\n",
       "    </tr>\n",
       "    <tr>\n",
       "      <td>1</td>\n",
       "      <td>Hyundai Creta 1.6 CRDi SX Option</td>\n",
       "      <td>Pune</td>\n",
       "      <td>2015</td>\n",
       "      <td>41000</td>\n",
       "      <td>Diesel</td>\n",
       "      <td>Manual</td>\n",
       "      <td>First</td>\n",
       "      <td>19.67</td>\n",
       "      <td>1582.0</td>\n",
       "      <td>126.20</td>\n",
       "      <td>5.0</td>\n",
       "      <td>12.50</td>\n",
       "    </tr>\n",
       "    <tr>\n",
       "      <td>2</td>\n",
       "      <td>Honda Jazz V</td>\n",
       "      <td>Chennai</td>\n",
       "      <td>2011</td>\n",
       "      <td>46000</td>\n",
       "      <td>Petrol</td>\n",
       "      <td>Manual</td>\n",
       "      <td>First</td>\n",
       "      <td>18.20</td>\n",
       "      <td>1199.0</td>\n",
       "      <td>88.70</td>\n",
       "      <td>5.0</td>\n",
       "      <td>4.50</td>\n",
       "    </tr>\n",
       "    <tr>\n",
       "      <td>3</td>\n",
       "      <td>Maruti Ertiga VDI</td>\n",
       "      <td>Chennai</td>\n",
       "      <td>2012</td>\n",
       "      <td>87000</td>\n",
       "      <td>Diesel</td>\n",
       "      <td>Manual</td>\n",
       "      <td>First</td>\n",
       "      <td>20.77</td>\n",
       "      <td>1248.0</td>\n",
       "      <td>88.76</td>\n",
       "      <td>7.0</td>\n",
       "      <td>6.00</td>\n",
       "    </tr>\n",
       "    <tr>\n",
       "      <td>4</td>\n",
       "      <td>Audi A4 New 2.0 TDI Multitronic</td>\n",
       "      <td>Coimbatore</td>\n",
       "      <td>2013</td>\n",
       "      <td>40670</td>\n",
       "      <td>Diesel</td>\n",
       "      <td>Automatic</td>\n",
       "      <td>Second</td>\n",
       "      <td>15.20</td>\n",
       "      <td>1968.0</td>\n",
       "      <td>140.80</td>\n",
       "      <td>5.0</td>\n",
       "      <td>17.74</td>\n",
       "    </tr>\n",
       "  </tbody>\n",
       "</table>\n",
       "</div>"
      ],
      "text/plain": [
       "                               Name    Location  Year  Kilometers_Driven  \\\n",
       "0            Maruti Wagon R LXI CNG      Mumbai  2010              72000   \n",
       "1  Hyundai Creta 1.6 CRDi SX Option        Pune  2015              41000   \n",
       "2                      Honda Jazz V     Chennai  2011              46000   \n",
       "3                 Maruti Ertiga VDI     Chennai  2012              87000   \n",
       "4   Audi A4 New 2.0 TDI Multitronic  Coimbatore  2013              40670   \n",
       "\n",
       "  Fuel_Type Transmission Owner_Type  Mileage  Engine   Power  Seats  Price  \n",
       "0       CNG       Manual      First    26.60   998.0   58.16    5.0   1.75  \n",
       "1    Diesel       Manual      First    19.67  1582.0  126.20    5.0  12.50  \n",
       "2    Petrol       Manual      First    18.20  1199.0   88.70    5.0   4.50  \n",
       "3    Diesel       Manual      First    20.77  1248.0   88.76    7.0   6.00  \n",
       "4    Diesel    Automatic     Second    15.20  1968.0  140.80    5.0  17.74  "
      ]
     },
     "execution_count": 8,
     "metadata": {},
     "output_type": "execute_result"
    }
   ],
   "source": [
    "# here i am imputing the missing values in the rows by their mean in the complete column of the dataset\n",
    "# function for average calculation\n",
    "def avrg(x):\n",
    "    sum=0\n",
    "    count=0\n",
    "    for i in x:\n",
    "        sum=sum+i\n",
    "        count=count+1\n",
    "    average=sum/count\n",
    "    return(average)\n",
    "######################################\n",
    "avg=avrg(power1)\n",
    "count=0\n",
    "for i in power1:\n",
    "    if i==0:\n",
    "        power1.iloc[count]=avg\n",
    "    count=count+1\n",
    "#######################################\n",
    "avg=avrg(engine1)\n",
    "count=0\n",
    "for i in engine1:\n",
    "    if i==0:\n",
    "        engine1.iloc[count]=avg\n",
    "    count=count+1\n",
    "######################################\n",
    "avg=avrg(mileage1)\n",
    "count=0\n",
    "for i in mileage1:\n",
    "    if i==0:\n",
    "        mileage1.iloc[count]=avg\n",
    "    count=count+1\n",
    "######################################     \n",
    "avg=avrg(seats1)\n",
    "count=0\n",
    "for i in seats1:\n",
    "    if i==0:\n",
    "        seats1.iloc[count]=avg\n",
    "    count=count+1\n",
    "######################################     \n",
    "\n",
    "#6019\n",
    "\n",
    "data={\"Name\":model_name,\n",
    "      \"Location\":location,\n",
    "      \"Year\":year,\n",
    "      \"Kilometers_Driven\":km_driven,\n",
    "      \"Fuel_Type\":fuel_type,\n",
    "      \"Transmission\":transmission,\n",
    "      \"Owner_Type\":owner,\n",
    "      \"Mileage\":mileage1,\n",
    "      \"Engine\":engine1,\n",
    "      \"Power\":power1,\n",
    "      \"Seats\":seats1,\n",
    "      \"Price\":price,\n",
    "}\n",
    "df=pd.DataFrame(data)\n",
    "\n",
    "\n",
    "for i in index:\n",
    "    df.drop(i,inplace=True)\n",
    "print(\"length after droping\")\n",
    "print(len(df))\n",
    "\n",
    "\n",
    "x=np.array([])\n",
    "x=df\n",
    "print(len(x))\n",
    "x.to_csv(\"new\",index=False)\n",
    "new=pd.read_csv(\"new\")\n",
    "new.head()\n",
    "model_name=np.array([])\n",
    "model_name=new.iloc[:,0]\n",
    "location=np.array([])\n",
    "year=np.array([])\n",
    "km_driven=np.array([])\n",
    "fuel_type=np.array([])\n",
    "transmission=np.array([])\n",
    "owner=np.array([])\n",
    "mileage=np.array([])\n",
    "engine=np.array([])\n",
    "power=np.array([])\n",
    "seats=np.array([])\n",
    "price=np.array([])\n",
    "location=new.iloc[:,1]\n",
    "year=new.iloc[:,2]\n",
    "km_driven=new.iloc[:,3]\n",
    "fuel_type=new.iloc[:,4]\n",
    "transmission=new.iloc[:,5]\n",
    "owner=new.iloc[:,6]\n",
    "mileage=new.iloc[:,7]\n",
    "engine=new.iloc[:,8]\n",
    "power=new.iloc[:,9]\n",
    "seats=new.iloc[:,10]\n",
    "price=new.iloc[:,11]\n",
    "#5976\n",
    "new.head()"
   ]
  },
  {
   "cell_type": "markdown",
   "metadata": {},
   "source": [
    "<span style='background :yellow' ><span style='color :green' >(REASON-)</span></span>"
   ]
  },
  {
   "cell_type": "markdown",
   "metadata": {},
   "source": [
    "by just going through the data once we can see that generally data is missing in rows not in significant numbers in columns. as 3 columns of 12 columns given in a row accounts for 25%"
   ]
  },
  {
   "cell_type": "markdown",
   "metadata": {},
   "source": [
    "<span style='background :white' ><span style='color :red' >UNIVARIATE AND BIVARIATE ANALYSIS</span></span>"
   ]
  },
  {
   "cell_type": "code",
   "execution_count": 9,
   "metadata": {},
   "outputs": [
    {
     "name": "stdout",
     "output_type": "stream",
     "text": [
      "---------------------------frequency of the property of the given car type--------------------------\n"
     ]
    },
    {
     "data": {
      "image/png": "[encoded data removed]",
      "text/plain": [
       "<Figure size 1440x1296 with 4 Axes>"
      ]
     },
     "metadata": {
      "needs_background": "light"
     },
     "output_type": "display_data"
    }
   ],
   "source": [
    "print(\"---------------------------frequency of the property of the given car type--------------------------\")\n",
    "fig = plt.figure(figsize=(20,18))\n",
    "fig.subplots_adjust(hspace=0.2, wspace=0.2)\n",
    "fig.add_subplot(2,2,1)\n",
    "g1 = sns.countplot(x='Year', data=new)\n",
    "loc,labels = plt.xticks()\n",
    "g1.set_xticklabels(labels,rotation=90)\n",
    "fig.add_subplot(2,2,2)\n",
    "g2 = sns.countplot(x='Fuel_Type', data=new)\n",
    "loc,labels = plt.xticks()\n",
    "g2.set_xticklabels(labels,rotation=0)\n",
    "fig.add_subplot(2,2,3)\n",
    "g3 = sns.countplot(x='Transmission', data=new)\n",
    "loc,labels = plt.xticks()\n",
    "g3.set_xticklabels(labels,rotation=0)\n",
    "fig.add_subplot(2,2,4)\n",
    "g4 = sns.countplot(x='Owner_Type', data=new)\n",
    "loc,labels = plt.xticks()\n",
    "g4.set_xticklabels(labels,rotation=0)\n",
    "plt.show()\n"
   ]
  },
  {
   "cell_type": "code",
   "execution_count": 10,
   "metadata": {},
   "outputs": [
    {
     "name": "stdout",
     "output_type": "stream",
     "text": [
      "----------------frequency of the property of the given car type------------------\n"
     ]
    },
    {
     "data": {
      "text/plain": [
       "[Text(0, 0, 'Mumbai'),\n",
       " Text(0, 0, 'Pune'),\n",
       " Text(0, 0, 'Chennai'),\n",
       " Text(0, 0, 'Coimbatore'),\n",
       " Text(0, 0, 'Hyderabad'),\n",
       " Text(0, 0, 'Jaipur'),\n",
       " Text(0, 0, 'Kochi'),\n",
       " Text(0, 0, 'Kolkata'),\n",
       " Text(0, 0, 'Delhi'),\n",
       " Text(0, 0, 'Bangalore'),\n",
       " Text(0, 0, 'Ahmedabad')]"
      ]
     },
     "execution_count": 10,
     "metadata": {},
     "output_type": "execute_result"
    },
    {
     "data": {
      "image/png": "[encoded data removed]",
      "text/plain": [
       "<Figure size 1440x720 with 1 Axes>"
      ]
     },
     "metadata": {
      "needs_background": "light"
     },
     "output_type": "display_data"
    }
   ],
   "source": [
    "print(\"----------------frequency of the property of the given car type------------------\")\n",
    "fig = plt.figure(figsize=(20,10))\n",
    "fig.subplots_adjust(hspace=0.2, wspace=0.2)\n",
    "fig.add_subplot(1,1,1)\n",
    "g1 = sns.countplot(x='Location', data=new)\n",
    "loc,labels = plt.xticks()\n",
    "g1.set_xticklabels(labels,rotation=90)"
   ]
  },
  {
   "cell_type": "code",
   "execution_count": 11,
   "metadata": {},
   "outputs": [
    {
     "name": "stdout",
     "output_type": "stream",
     "text": [
      "--------------------frequency of the property of the given car type---------------\n"
     ]
    },
    {
     "data": {
      "text/plain": [
       "[Text(0, 0, 'Maruti'),\n",
       " Text(0, 0, 'Hyundai'),\n",
       " Text(0, 0, 'Honda'),\n",
       " Text(0, 0, 'Audi'),\n",
       " Text(0, 0, 'Nissan'),\n",
       " Text(0, 0, 'Toyota'),\n",
       " Text(0, 0, 'Volkswagen'),\n",
       " Text(0, 0, 'Tata'),\n",
       " Text(0, 0, 'Land'),\n",
       " Text(0, 0, 'Mitsubishi'),\n",
       " Text(0, 0, 'Renault'),\n",
       " Text(0, 0, 'Mercedes-Benz'),\n",
       " Text(0, 0, 'BMW'),\n",
       " Text(0, 0, 'Mahindra'),\n",
       " Text(0, 0, 'Ford'),\n",
       " Text(0, 0, 'Porsche'),\n",
       " Text(0, 0, 'Datsun'),\n",
       " Text(0, 0, 'Jaguar'),\n",
       " Text(0, 0, 'Volvo'),\n",
       " Text(0, 0, 'Chevrolet'),\n",
       " Text(0, 0, 'Skoda'),\n",
       " Text(0, 0, 'Mini'),\n",
       " Text(0, 0, 'Fiat'),\n",
       " Text(0, 0, 'Jeep'),\n",
       " Text(0, 0, 'Smart'),\n",
       " Text(0, 0, 'Ambassador'),\n",
       " Text(0, 0, 'Isuzu'),\n",
       " Text(0, 0, 'ISUZU'),\n",
       " Text(0, 0, 'Force'),\n",
       " Text(0, 0, 'Bentley'),\n",
       " Text(0, 0, 'Lamborghini')]"
      ]
     },
     "execution_count": 11,
     "metadata": {},
     "output_type": "execute_result"
    },
    {
     "data": {
      "image/png": "[encoded data removed]",
      "text/plain": [
       "<Figure size 1440x720 with 1 Axes>"
      ]
     },
     "metadata": {
      "needs_background": "light"
     },
     "output_type": "display_data"
    }
   ],
   "source": [
    "# BRAND TYPE SEGEARTION\n",
    "a=[]\n",
    "count=0\n",
    "for i in model_name:\n",
    "    x=''\n",
    "    for j in i:\n",
    "        if j==\" \":\n",
    "            break\n",
    "        else:\n",
    "            x=x+j\n",
    "    a.append(x)        \n",
    "    count=count+1\n",
    "a=np.array(a)\n",
    "data={\"name\":a\n",
    "    \n",
    "}\n",
    "a=pd.DataFrame(data)\n",
    "a.to_csv(\"model\",index=False)\n",
    "a=pd.read_csv(\"model\")\n",
    "\n",
    "print(\"--------------------frequency of the property of the given car type---------------\")\n",
    "fig = plt.figure(figsize=(20,10))\n",
    "fig.subplots_adjust(hspace=0.2, wspace=0.2)\n",
    "fig.add_subplot(1,1,1)\n",
    "g1 = sns.countplot(x='name',data=a)\n",
    "loc,labels = plt.xticks()\n",
    "g1.set_xticklabels(labels,rotation=90)"
   ]
  },
  {
   "cell_type": "markdown",
   "metadata": {},
   "source": [
    "1. PEOPLE USE MORE DIESEL BASED CARS THE MOST THEN PETROL THEN CNG THEN LPG AND THEN ELECTRIC.\n",
    "2. IN 2014 PEOPLE SHOWED MAXIMUM INTERSET IN CARS SINCE THEN IT IS ON DECLINE.\n",
    "3. PEOPLE GO MORE WITH MANUAL THAN AUTOMATIC TRANSMISSION.\n",
    "4. MUMBAI WAS THE MOST PREFERRED LOCATION.\n",
    "5. MARUTI BRAND WAS THE MOST PREFERRED BRAND"
   ]
  },
  {
   "cell_type": "code",
   "execution_count": 12,
   "metadata": {},
   "outputs": [
    {
     "data": {
      "image/png": "[encoded data removed]",
      "text/plain": [
       "<Figure size 432x288 with 1 Axes>"
      ]
     },
     "metadata": {
      "needs_background": "light"
     },
     "output_type": "display_data"
    }
   ],
   "source": [
    "plt.scatter(km_driven,price)\n",
    "plt.title(\"price of car with given km_driven\")\n",
    "plt.show()"
   ]
  },
  {
   "cell_type": "code",
   "execution_count": 13,
   "metadata": {},
   "outputs": [
    {
     "data": {
      "image/png": "[encoded data removed]",
      "text/plain": [
       "<Figure size 432x288 with 1 Axes>"
      ]
     },
     "metadata": {
      "needs_background": "light"
     },
     "output_type": "display_data"
    }
   ],
   "source": [
    "plt.scatter(mileage,price)\n",
    "plt.title(\"price of car with given mileage\")\n",
    "plt.show()"
   ]
  },
  {
   "cell_type": "code",
   "execution_count": 14,
   "metadata": {},
   "outputs": [
    {
     "data": {
      "image/png": "[encoded data removed]",
      "text/plain": [
       "<Figure size 432x288 with 1 Axes>"
      ]
     },
     "metadata": {
      "needs_background": "light"
     },
     "output_type": "display_data"
    }
   ],
   "source": [
    "plt.scatter(engine,price)\n",
    "plt.title(\"price of car with given engine\")\n",
    "plt.show()"
   ]
  },
  {
   "cell_type": "code",
   "execution_count": 15,
   "metadata": {},
   "outputs": [
    {
     "data": {
      "image/png": "[encoded data removed]",
      "text/plain": [
       "<Figure size 432x288 with 1 Axes>"
      ]
     },
     "metadata": {
      "needs_background": "light"
     },
     "output_type": "display_data"
    }
   ],
   "source": [
    "plt.scatter(power,price)\n",
    "plt.title(\"price of car with given power\")\n",
    "plt.show()"
   ]
  },
  {
   "cell_type": "code",
   "execution_count": 16,
   "metadata": {},
   "outputs": [
    {
     "data": {
      "image/png": "[encoded data removed]",
      "text/plain": [
       "<Figure size 432x288 with 1 Axes>"
      ]
     },
     "metadata": {
      "needs_background": "light"
     },
     "output_type": "display_data"
    }
   ],
   "source": [
    "plt.scatter(seats,price)\n",
    "plt.title(\"price of car with given seats\")\n",
    "plt.show()"
   ]
  },
  {
   "cell_type": "code",
   "execution_count": 17,
   "metadata": {},
   "outputs": [
    {
     "data": {
      "image/png": "[encoded data removed]",
      "text/plain": [
       "<Figure size 432x288 with 1 Axes>"
      ]
     },
     "metadata": {
      "needs_background": "light"
     },
     "output_type": "display_data"
    },
    {
     "data": {
      "image/png": "[encoded data removed]",
      "text/plain": [
       "<Figure size 432x288 with 1 Axes>"
      ]
     },
     "metadata": {
      "needs_background": "light"
     },
     "output_type": "display_data"
    }
   ],
   "source": [
    "# MAKING FUNCTION FOR SEGREGATING FURTHER IN EACH EACH PROPERTY THEN FINDING MEAN AND MEDIAN OF THE FURTHER \n",
    "# SEGERATTED GROUP AND COMPARING THERE PRICES\n",
    "a=[]\n",
    "b=[]\n",
    "count=0\n",
    "for i in transmission:\n",
    "    if i==\"Manual\":\n",
    "        a.append(price[count])\n",
    "    if i==\"Automatic\":\n",
    "        b.append(price[count])\n",
    "    count=count+1\n",
    "a=np.array(a)\n",
    "b=np.array(b)\n",
    "mean1=np.mean(a)\n",
    "mean2=np.mean(b)\n",
    "median1=np.median(a)\n",
    "median2=np.median(b)\n",
    "plt.plot(\"manual\",mean1,'ys')\n",
    "plt.plot(\"automatic\",mean2,'ys')\n",
    "plt.plot(\"manual\",median1,'g+')\n",
    "plt.plot(\"automatic\",median2,'g+')\n",
    "plt.title(\"mean and median of price on the basis of trnsmission type\")\n",
    "plt.show()\n",
    "plt.hist(transmission)\n",
    "plt.title(\"frequency of transmission type being used\")\n",
    "plt.show()"
   ]
  },
  {
   "cell_type": "markdown",
   "metadata": {},
   "source": [
    "FROM HERE WE CAN INFERE THAT PRICE IS ONE OF THE MAJOR REASON FOR THE POPULARITY OF MANUAL TYPE"
   ]
  },
  {
   "cell_type": "code",
   "execution_count": 18,
   "metadata": {},
   "outputs": [
    {
     "data": {
      "image/png": "[encoded data removed]",
      "text/plain": [
       "<Figure size 432x288 with 1 Axes>"
      ]
     },
     "metadata": {
      "needs_background": "light"
     },
     "output_type": "display_data"
    },
    {
     "data": {
      "image/png": "[encoded data removed]",
      "text/plain": [
       "<Figure size 432x288 with 1 Axes>"
      ]
     },
     "metadata": {
      "needs_background": "light"
     },
     "output_type": "display_data"
    }
   ],
   "source": [
    "a=[]\n",
    "b=[]\n",
    "c=[]\n",
    "d=[]\n",
    "e=[]\n",
    "count=0\n",
    "for i in fuel_type:\n",
    "    if i==\"CNG\":\n",
    "        a.append(price[count])\n",
    "    if i==\"LPG\":\n",
    "        b.append(price[count])\n",
    "    if i==\"Electric\":\n",
    "        c.append(price[count])\n",
    "    if i==\"Petrol\":\n",
    "        d.append(price[count])\n",
    "    if i==\"Diesel\":\n",
    "        e.append(price[count])\n",
    "    count=count+1\n",
    "a=np.array(a)\n",
    "b=np.array(b)\n",
    "c=np.array(c)\n",
    "d=np.array(d)\n",
    "e=np.array(e)\n",
    "mean1=np.mean(a)\n",
    "mean2=np.mean(b)\n",
    "mean3=np.mean(c)\n",
    "mean4=np.mean(d)\n",
    "mean5=np.mean(e)\n",
    "median1=np.median(a)\n",
    "median2=np.median(b)\n",
    "median3=np.median(c)\n",
    "median4=np.median(d)\n",
    "median5=np.median(e)\n",
    "plt.plot(\"CNG\",mean1,'ys')\n",
    "plt.plot(\"DIESEL\",mean5,'ys')\n",
    "plt.plot(\"PETROL\",mean4,'ys')\n",
    "plt.plot(\"LPG\",mean2,'ys')\n",
    "plt.plot(\"ELECTRIC\",mean3,'ys')\n",
    "plt.plot(\"CNG\",median1,'g+')\n",
    "plt.plot(\"DIESEL\",median5,'g+')\n",
    "plt.plot(\"PETROL\",median4,'g+')\n",
    "plt.plot(\"LPG\",median2,'g+')\n",
    "plt.plot(\"ELECTRIC\",median3,'g+')\n",
    "plt.title(\"mean and median of price on the basis fuel type\")\n",
    "plt.show()\n",
    "plt.hist(fuel_type)\n",
    "plt.title(\"frequency of fuel type being used\")\n",
    "plt.show()"
   ]
  },
  {
   "cell_type": "markdown",
   "metadata": {},
   "source": [
    "FROM HERE WE CAN INFERE THAT PRICE IS NOT THE REASON COMPLETELY."
   ]
  },
  {
   "cell_type": "code",
   "execution_count": 19,
   "metadata": {},
   "outputs": [
    {
     "data": {
      "image/png": "[encoded data removed]",
      "text/plain": [
       "<Figure size 432x288 with 1 Axes>"
      ]
     },
     "metadata": {
      "needs_background": "light"
     },
     "output_type": "display_data"
    },
    {
     "data": {
      "image/png": "[encoded data removed]",
      "text/plain": [
       "<Figure size 432x288 with 1 Axes>"
      ]
     },
     "metadata": {
      "needs_background": "light"
     },
     "output_type": "display_data"
    }
   ],
   "source": [
    "a=[]\n",
    "b=[]\n",
    "c=[]\n",
    "d=[]\n",
    "count=0\n",
    "for i in owner:\n",
    "    if i==\"First\":\n",
    "        a.append(price[count])\n",
    "    if i==\"Second\":\n",
    "        b.append(price[count])\n",
    "    if i==\"Fourth & Above\":\n",
    "        c.append(price[count])\n",
    "    if i==\"Third\":\n",
    "        d.append(price[count])\n",
    "    count=count+1\n",
    "a=np.array(a)\n",
    "b=np.array(b)\n",
    "c=np.array(c)\n",
    "d=np.array(d)\n",
    "mean1=np.mean(a)\n",
    "mean2=np.mean(b)\n",
    "mean3=np.mean(c)\n",
    "mean4=np.mean(d)\n",
    "median1=np.median(a)\n",
    "median2=np.median(b)\n",
    "median3=np.median(c)\n",
    "median4=np.median(d)\n",
    "plt.plot(\"first\",mean1,'ys')\n",
    "plt.plot(\"second\",mean2,'ys')\n",
    "plt.plot(\"fourth&above\",mean3,'ys')\n",
    "plt.plot(\"third\",mean4,'ys')\n",
    "plt.plot(\"first\",median1,'g+')\n",
    "plt.plot(\"second\",median2,'g+')\n",
    "plt.plot(\"fourth&above\",median3,'g+')\n",
    "plt.plot(\"third\",median4,'g+')\n",
    "plt.title(\"mean and median of prce on the basis of owner type\")\n",
    "plt.show()\n",
    "plt.hist(owner)\n",
    "plt.title(\"frequency of fuel type being used\")\n",
    "plt.show()"
   ]
  },
  {
   "cell_type": "markdown",
   "metadata": {},
   "source": [
    "FROM HERE WE CAN INFERE THAT PRICE IS NOT THE REASON COMPLETELY."
   ]
  },
  {
   "cell_type": "markdown",
   "metadata": {},
   "source": [
    "<span style='background :white' ><span style='color :red' >SCALING KILOMETERS DRIVEN, ENGINE, POWER, PRICE,MILEAGE COLUMN</span></span>"
   ]
  },
  {
   "cell_type": "code",
   "execution_count": 20,
   "metadata": {},
   "outputs": [],
   "source": [
    "#scaling value in range 1 to 2\n",
    "def max(x):\n",
    "    max1=0\n",
    "    for i in x:\n",
    "        if i>max1:\n",
    "            max1=i\n",
    "    return max1\n",
    "def stunner(x,a):\n",
    "    count=0\n",
    "    y=[]\n",
    "    for i in x:\n",
    "        g=(i/a)+1\n",
    "        y=y+[g]\n",
    "        count=count+1\n",
    "    return y\n",
    "a=max(km_driven)\n",
    "km_driven=stunner(km_driven,a)\n",
    "km_driven=np.array([km_driven])\n",
    "km_driven=np.transpose(km_driven)\n",
    "#-------------------------------------------------------\n",
    "a=max(engine)\n",
    "engine=stunner(engine,a)\n",
    "engine=np.array([engine])\n",
    "engine=np.transpose(engine)\n",
    "#-------------------------------------------------------\n",
    "a=max(price)\n",
    "price=stunner(price,a)\n",
    "price=np.array([price])\n",
    "price=np.transpose(price)\n",
    "#-------------------------------------------------------\n",
    "a=max(mileage)\n",
    "mileage=stunner(mileage,a)\n",
    "mileage=np.array([mileage])\n",
    "mileage=np.transpose(mileage)\n",
    "#-------------------------------------------------------\n",
    "a=max(power)\n",
    "power=stunner(power,a)\n",
    "power=np.array([power])\n",
    "power=np.transpose(power)"
   ]
  },
  {
   "cell_type": "code",
   "execution_count": 21,
   "metadata": {},
   "outputs": [
    {
     "name": "stdout",
     "output_type": "stream",
     "text": [
      "(5976,)\n",
      "(5976,)\n",
      "(5976,)\n",
      "[1.1663888  1.26375458 1.19989997 ... 1.41647216 1.1663888  1.15605202]\n",
      "[1.10385714 1.22535714 1.15839286 ... 1.2        1.11982143 1.10285714]\n"
     ]
    }
   ],
   "source": [
    "km_driven=km_driven.flatten()\n",
    "print(km_driven.shape)\n",
    "price=price.flatten()\n",
    "print(price.shape)\n",
    "mileage=mileage.flatten()\n",
    "print(mileage.shape)\n",
    "engine=engine.flatten()\n",
    "print(engine)\n",
    "power=power.flatten()\n",
    "print(power)"
   ]
  },
  {
   "cell_type": "code",
   "execution_count": 22,
   "metadata": {},
   "outputs": [
    {
     "name": "stdout",
     "output_type": "stream",
     "text": [
      "(5976,)\n",
      "(5976,)\n"
     ]
    }
   ],
   "source": [
    "print(mileage.shape)\n",
    "print(price.shape)"
   ]
  },
  {
   "cell_type": "code",
   "execution_count": 23,
   "metadata": {},
   "outputs": [
    {
     "name": "stdout",
     "output_type": "stream",
     "text": [
      "['Ambassador' 'Audi' 'BMW' 'Bentley' 'Chevrolet' 'Datsun' 'Fiat' 'Force'\n",
      " 'Ford' 'Honda' 'Hyundai' 'ISUZU' 'Isuzu' 'Jaguar' 'Jeep' 'Lamborghini'\n",
      " 'Land' 'Mahindra' 'Maruti' 'Mercedes-Benz' 'Mini' 'Mitsubishi' 'Nissan'\n",
      " 'Porsche' 'Renault' 'Skoda' 'Smart' 'Tata' 'Toyota' 'Volkswagen' 'Volvo']\n",
      "(5976,)\n"
     ]
    }
   ],
   "source": [
    "# updating name with brand name\n",
    "# BRAND TYPE SEGEARTION\n",
    "a=[]\n",
    "count=0\n",
    "for i in model_name:\n",
    "    x=''\n",
    "    for j in i:\n",
    "        if j==\" \":\n",
    "            break\n",
    "        else:\n",
    "            x=x+j\n",
    "    a.append(x)        \n",
    "    count=count+1\n",
    "    \n",
    "#---------------------------------------------------------------------------\n",
    "\n",
    "a=np.array(a)\n",
    "a=np.unique(a)\n",
    "print(a)\n",
    "count=0\n",
    "brand_name=[]\n",
    "for i in model_name:\n",
    "    x=''\n",
    "    for k in i:\n",
    "        if k==\" \":\n",
    "            for j in a:\n",
    "                if j==x:\n",
    "                    brand_name=brand_name+[x]\n",
    "                    break\n",
    "            break\n",
    "        else:\n",
    "            x=x+k\n",
    "            \n",
    "brand_name=np.array([brand_name])\n",
    "brand_name=np.transpose(brand_name)\n",
    "brand_name=brand_name.flatten()\n",
    "print(brand_name.shape)\n",
    "            \n",
    "\n"
   ]
  },
  {
   "cell_type": "code",
   "execution_count": 24,
   "metadata": {},
   "outputs": [
    {
     "name": "stdout",
     "output_type": "stream",
     "text": [
      "5976\n"
     ]
    }
   ],
   "source": [
    "data={\"Brand_Name\":brand_name,\n",
    "      \"Location\":location,\n",
    "      \"Year\":year,\n",
    "      \"Kilometers_Driven\":km_driven,\n",
    "      \"Fuel_Type\":fuel_type,\n",
    "      \"Transmission\":transmission,\n",
    "      \"Owner_Type\":owner,\n",
    "      \"Mileage\":mileage,\n",
    "      \"Engine\":engine,\n",
    "      \"Power\":power,\n",
    "      \"Seats\":seats,\n",
    "      \"Price\":price,\n",
    "}\n",
    "df=pd.DataFrame(data)\n",
    "\n",
    "x=np.array([])\n",
    "x=df\n",
    "print(len(x))\n",
    "x.to_csv(\"new\",index=False)\n",
    "new=pd.read_csv(\"new\")"
   ]
  },
  {
   "cell_type": "markdown",
   "metadata": {},
   "source": [
    "<span style='background :white' ><span style='color :red' >LABEL ENCODING</span></span>"
   ]
  },
  {
   "cell_type": "code",
   "execution_count": 25,
   "metadata": {},
   "outputs": [
    {
     "data": {
      "text/html": [
       "<div>\n",
       "<style scoped>\n",
       "    .dataframe tbody tr th:only-of-type {\n",
       "        vertical-align: middle;\n",
       "    }\n",
       "\n",
       "    .dataframe tbody tr th {\n",
       "        vertical-align: top;\n",
       "    }\n",
       "\n",
       "    .dataframe thead th {\n",
       "        text-align: right;\n",
       "    }\n",
       "</style>\n",
       "<table border=\"1\" class=\"dataframe\">\n",
       "  <thead>\n",
       "    <tr style=\"text-align: right;\">\n",
       "      <th></th>\n",
       "      <th>Brand_Name</th>\n",
       "      <th>Location</th>\n",
       "      <th>Year</th>\n",
       "      <th>Kilometers_Driven</th>\n",
       "      <th>Fuel_Type</th>\n",
       "      <th>Transmission</th>\n",
       "      <th>Owner_Type</th>\n",
       "      <th>Mileage</th>\n",
       "      <th>Engine</th>\n",
       "      <th>Power</th>\n",
       "      <th>Seats</th>\n",
       "      <th>Price</th>\n",
       "    </tr>\n",
       "  </thead>\n",
       "  <tbody>\n",
       "    <tr>\n",
       "      <td>0</td>\n",
       "      <td>18</td>\n",
       "      <td>9</td>\n",
       "      <td>12</td>\n",
       "      <td>1.240000</td>\n",
       "      <td>0</td>\n",
       "      <td>1</td>\n",
       "      <td>0</td>\n",
       "      <td>1.793083</td>\n",
       "      <td>1.166389</td>\n",
       "      <td>1.103857</td>\n",
       "      <td>2</td>\n",
       "      <td>1.010938</td>\n",
       "    </tr>\n",
       "    <tr>\n",
       "      <td>1</td>\n",
       "      <td>10</td>\n",
       "      <td>10</td>\n",
       "      <td>17</td>\n",
       "      <td>1.136667</td>\n",
       "      <td>1</td>\n",
       "      <td>1</td>\n",
       "      <td>0</td>\n",
       "      <td>1.586464</td>\n",
       "      <td>1.263755</td>\n",
       "      <td>1.225357</td>\n",
       "      <td>2</td>\n",
       "      <td>1.078125</td>\n",
       "    </tr>\n",
       "    <tr>\n",
       "      <td>2</td>\n",
       "      <td>9</td>\n",
       "      <td>2</td>\n",
       "      <td>13</td>\n",
       "      <td>1.153333</td>\n",
       "      <td>4</td>\n",
       "      <td>1</td>\n",
       "      <td>0</td>\n",
       "      <td>1.542636</td>\n",
       "      <td>1.199900</td>\n",
       "      <td>1.158393</td>\n",
       "      <td>2</td>\n",
       "      <td>1.028125</td>\n",
       "    </tr>\n",
       "    <tr>\n",
       "      <td>3</td>\n",
       "      <td>18</td>\n",
       "      <td>2</td>\n",
       "      <td>14</td>\n",
       "      <td>1.290000</td>\n",
       "      <td>1</td>\n",
       "      <td>1</td>\n",
       "      <td>0</td>\n",
       "      <td>1.619261</td>\n",
       "      <td>1.208069</td>\n",
       "      <td>1.158500</td>\n",
       "      <td>5</td>\n",
       "      <td>1.037500</td>\n",
       "    </tr>\n",
       "    <tr>\n",
       "      <td>4</td>\n",
       "      <td>1</td>\n",
       "      <td>3</td>\n",
       "      <td>15</td>\n",
       "      <td>1.135567</td>\n",
       "      <td>1</td>\n",
       "      <td>0</td>\n",
       "      <td>2</td>\n",
       "      <td>1.453190</td>\n",
       "      <td>1.328109</td>\n",
       "      <td>1.251429</td>\n",
       "      <td>2</td>\n",
       "      <td>1.110875</td>\n",
       "    </tr>\n",
       "  </tbody>\n",
       "</table>\n",
       "</div>"
      ],
      "text/plain": [
       "   Brand_Name  Location  Year  Kilometers_Driven  Fuel_Type  Transmission  \\\n",
       "0          18         9    12           1.240000          0             1   \n",
       "1          10        10    17           1.136667          1             1   \n",
       "2           9         2    13           1.153333          4             1   \n",
       "3          18         2    14           1.290000          1             1   \n",
       "4           1         3    15           1.135567          1             0   \n",
       "\n",
       "   Owner_Type   Mileage    Engine     Power  Seats     Price  \n",
       "0           0  1.793083  1.166389  1.103857      2  1.010938  \n",
       "1           0  1.586464  1.263755  1.225357      2  1.078125  \n",
       "2           0  1.542636  1.199900  1.158393      2  1.028125  \n",
       "3           0  1.619261  1.208069  1.158500      5  1.037500  \n",
       "4           2  1.453190  1.328109  1.251429      2  1.110875  "
      ]
     },
     "execution_count": 25,
     "metadata": {},
     "output_type": "execute_result"
    }
   ],
   "source": [
    "from sklearn.preprocessing import LabelEncoder \n",
    "le = LabelEncoder() \n",
    "new.iloc[:,0]= le.fit_transform(new.iloc[:,0]) \n",
    "new.iloc[:,1]= le.fit_transform(new.iloc[:,1]) \n",
    "new.iloc[:,2]= le.fit_transform(new.iloc[:,2]) \n",
    "new.iloc[:,4]= le.fit_transform(new.iloc[:,4]) \n",
    "new.iloc[:,5]= le.fit_transform(new.iloc[:,5]) \n",
    "new.iloc[:,6]= le.fit_transform(new.iloc[:,6]) \n",
    "new.iloc[:,10]= le.fit_transform(new.iloc[:,10]) \n",
    "new.head()"
   ]
  },
  {
   "cell_type": "markdown",
   "metadata": {},
   "source": [
    "<span style='background :white' ><span style='color :red' >ONE HOT ENCODING</span></span>"
   ]
  },
  {
   "cell_type": "code",
   "execution_count": 26,
   "metadata": {},
   "outputs": [
    {
     "name": "stdout",
     "output_type": "stream",
     "text": [
      "(5976, 89)\n"
     ]
    },
    {
     "name": "stderr",
     "output_type": "stream",
     "text": [
      "C:\\Users\\Aditya\\Anaconda3\\lib\\site-packages\\sklearn\\preprocessing\\_encoders.py:415: FutureWarning: The handling of integer data will change in version 0.22. Currently, the categories are determined based on the range [0, max(values)], while in the future they will be determined based on the unique values.\n",
      "If you want the future behaviour and silence this warning, you can specify \"categories='auto'\".\n",
      "In case you used a LabelEncoder before this OneHotEncoder to convert the categories to integers, then you can now use the OneHotEncoder directly.\n",
      "  warnings.warn(msg, FutureWarning)\n"
     ]
    }
   ],
   "source": [
    "# one hot encoding\n",
    "from sklearn.preprocessing import OneHotEncoder \n",
    "from sklearn.compose import ColumnTransformer \n",
    "ct=ColumnTransformer([('encoder',OneHotEncoder(),[0,1,2,4,5,6,10])],remainder='passthrough') \n",
    "new=ct.fit_transform(new).toarray()\n",
    "print(new.shape)\n"
   ]
  },
  {
   "cell_type": "code",
   "execution_count": 27,
   "metadata": {},
   "outputs": [
    {
     "name": "stdout",
     "output_type": "stream",
     "text": [
      "[[0.         0.         0.         ... 1.1663888  1.10385714 1.0109375 ]\n",
      " [0.         0.         0.         ... 1.26375458 1.22535714 1.078125  ]\n",
      " [0.         0.         0.         ... 1.19989997 1.15839286 1.028125  ]\n",
      " ...\n",
      " [0.         0.         0.         ... 1.41647216 1.2        1.018125  ]\n",
      " [0.         0.         0.         ... 1.1663888  1.11982143 1.0165625 ]\n",
      " [0.         0.         0.         ... 1.15605202 1.10285714 1.015625  ]]\n",
      "(5976, 89)\n"
     ]
    }
   ],
   "source": [
    "print(new)\n",
    "print(new.shape)"
   ]
  },
  {
   "cell_type": "markdown",
   "metadata": {},
   "source": [
    "<span style='background :white' ><span style='color :red' >ALGORITHMS </span></span>"
   ]
  },
  {
   "cell_type": "markdown",
   "metadata": {},
   "source": [
    "<span style='background :yellow' ><span style='color :green' >1)MULTIPLE REGRESSSION</span></span>"
   ]
  },
  {
   "cell_type": "markdown",
   "metadata": {},
   "source": [
    "<span style='background :white' ><span style='color :red' >SPLITTING THE DATA IN DEPENDENT AND INDEPENDENT VARIABLE </span></span>\n"
   ]
  },
  {
   "cell_type": "code",
   "execution_count": 28,
   "metadata": {},
   "outputs": [
    {
     "name": "stdout",
     "output_type": "stream",
     "text": [
      "(5976, 88)\n"
     ]
    }
   ],
   "source": [
    "x=new[:,:-1]\n",
    "y=new[:,-1]\n",
    "print(x.shape)"
   ]
  },
  {
   "cell_type": "markdown",
   "metadata": {},
   "source": [
    "\n",
    "<span style='background :white' ><span style='color :red' >TRAIN TEST SPLIT</span></span>"
   ]
  },
  {
   "cell_type": "code",
   "execution_count": 29,
   "metadata": {},
   "outputs": [],
   "source": [
    "from sklearn.model_selection import train_test_split\n",
    "x_train,x_test,y_train,y_test=train_test_split(x,y,test_size=0.2,random_state=1)"
   ]
  },
  {
   "cell_type": "markdown",
   "metadata": {},
   "source": [
    "MODEL FITTING AND ERROR"
   ]
  },
  {
   "cell_type": "code",
   "execution_count": 30,
   "metadata": {},
   "outputs": [
    {
     "name": "stdout",
     "output_type": "stream",
     "text": [
      "80.36472761854111 %\n"
     ]
    }
   ],
   "source": [
    "from sklearn.linear_model import LinearRegression\n",
    "regressor=LinearRegression()\n",
    "regressor.fit(x_train,y_train)\n",
    "accuracy=regressor.score(x_test,y_test)\n",
    "print(accuracy*100,'%')"
   ]
  },
  {
   "cell_type": "markdown",
   "metadata": {},
   "source": [
    "ERROR"
   ]
  },
  {
   "cell_type": "code",
   "execution_count": 31,
   "metadata": {},
   "outputs": [
    {
     "name": "stdout",
     "output_type": "stream",
     "text": [
      "----------Error Table-------------\n",
      "r2 score----------------- 0.8036472761854111\n",
      "mean absolute error------- 0.018703400985054346\n",
      "mean squared error-------- 0.0010363262677463797\n",
      "root mean squared error-------- 0.03219202180271347\n",
      "r squared error----------------- 0.8036472761854111\n"
     ]
    }
   ],
   "source": [
    "from sklearn.metrics import r2_score\n",
    "y_pred=regressor.predict(x_test)\n",
    "from sklearn import metrics\n",
    "from sklearn.metrics import mean_squared_error, mean_absolute_error\n",
    "\n",
    "print(\"----------Error Table-------------\")\n",
    "print(\"r2 score-----------------\",r2_score(y_test,y_pred))\n",
    "print(\"mean absolute error-------\", metrics.mean_absolute_error(y_test, y_pred))\n",
    "print(\"mean squared error--------\", metrics.mean_squared_error(y_test, y_pred))\n",
    "print(\"root mean squared error--------\", np.sqrt(metrics.mean_squared_error(y_test, y_pred)))\n",
    "print(\"r squared error-----------------\", metrics.r2_score(y_test, y_pred))"
   ]
  },
  {
   "cell_type": "code",
   "execution_count": 32,
   "metadata": {},
   "outputs": [
    {
     "name": "stdout",
     "output_type": "stream",
     "text": [
      "1196\n",
      "-----\n"
     ]
    },
    {
     "data": {
      "text/plain": [
       "array([1.01147461, 1.21044922, 1.01721191, ..., 1.06652832, 1.22363281,\n",
       "       1.0291748 ])"
      ]
     },
     "execution_count": 32,
     "metadata": {},
     "output_type": "execute_result"
    }
   ],
   "source": [
    "y_pred=regressor.predict(x_test)\n",
    "print(len(y_pred))\n",
    "print(\"-----\")\n",
    "y_pred"
   ]
  },
  {
   "cell_type": "markdown",
   "metadata": {},
   "source": [
    "IN IDEAL CASE Y_TRAIN AND Y_PRED SHOULD BE EQUAL HENCE STRAIGHT LINE WITH SLOPE 1 SHOULD FORM WE CAN CHECK THE DEVIATION IN THE FOLLOWING GRAPH IN PREDICTION"
   ]
  },
  {
   "cell_type": "code",
   "execution_count": 33,
   "metadata": {},
   "outputs": [
    {
     "data": {
      "image/png": "[encoded data removed]",
      "text/plain": [
       "<Figure size 432x288 with 1 Axes>"
      ]
     },
     "metadata": {
      "needs_background": "light"
     },
     "output_type": "display_data"
    }
   ],
   "source": [
    "a=[1,1.6]\n",
    "b=[1,1.6]\n",
    "plt.scatter(y_test,y_pred,color='red')\n",
    "plt.plot(a,b,color='blue')\n",
    "plt.title(\"y_test vs y_pred graph\")\n",
    "plt.show()"
   ]
  },
  {
   "cell_type": "markdown",
   "metadata": {},
   "source": [
    "<span style='background :yellow' ><span style='color :green' >2)RANDOM FORREST REGRESSION</span></span>"
   ]
  },
  {
   "cell_type": "code",
   "execution_count": 34,
   "metadata": {},
   "outputs": [
    {
     "data": {
      "text/plain": [
       "RandomForestRegressor(bootstrap=True, criterion='mse', max_depth=None,\n",
       "                      max_features='auto', max_leaf_nodes=None,\n",
       "                      min_impurity_decrease=0.0, min_impurity_split=None,\n",
       "                      min_samples_leaf=1, min_samples_split=2,\n",
       "                      min_weight_fraction_leaf=0.0, n_estimators=1500,\n",
       "                      n_jobs=None, oob_score=False, random_state=1, verbose=0,\n",
       "                      warm_start=False)"
      ]
     },
     "execution_count": 34,
     "metadata": {},
     "output_type": "execute_result"
    }
   ],
   "source": [
    "from sklearn.ensemble import RandomForestRegressor\n",
    "regressor4=RandomForestRegressor(n_estimators=1500,random_state=1)\n",
    "regressor4.fit(x_train,y_train)"
   ]
  },
  {
   "cell_type": "code",
   "execution_count": 35,
   "metadata": {},
   "outputs": [],
   "source": [
    "y_pred=regressor4.predict(x_test)"
   ]
  },
  {
   "cell_type": "markdown",
   "metadata": {},
   "source": [
    "ERROR"
   ]
  },
  {
   "cell_type": "code",
   "execution_count": 36,
   "metadata": {},
   "outputs": [
    {
     "name": "stdout",
     "output_type": "stream",
     "text": [
      "80.36472761854111 %\n",
      "----------Error Table-------------\n",
      "r2 score----------------- 0.8943300368434227\n",
      "mean absolute error------- 0.011142920635526039\n",
      "mean squared error-------- 0.0005577134679036053\n",
      "root mean squared error-------- 0.02361595790781321\n",
      "r squared error----------------- 0.8943300368434227\n"
     ]
    }
   ],
   "source": [
    "accuracy=regressor.score(x_test,y_test)\n",
    "print(accuracy*100,'%')\n",
    "print(\"----------Error Table-------------\")\n",
    "print(\"r2 score-----------------\",r2_score(y_test,y_pred))\n",
    "print(\"mean absolute error-------\", metrics.mean_absolute_error(y_test, y_pred))\n",
    "print(\"mean squared error--------\", metrics.mean_squared_error(y_test, y_pred))\n",
    "print(\"root mean squared error--------\", np.sqrt(metrics.mean_squared_error(y_test, y_pred)))\n",
    "print(\"r squared error-----------------\", metrics.r2_score(y_test, y_pred))"
   ]
  },
  {
   "cell_type": "markdown",
   "metadata": {},
   "source": [
    "IN IDEAL CASE Y_TRAIN AND Y_PRED SHOULD BE EQUAL HENCE STRAIGHT LINE WITH SLOPE 1 SHOULD FORM WE CAN CHECK THE DEVIATION IN THE FOLLOWING GRAPH IN PREDICTION"
   ]
  },
  {
   "cell_type": "code",
   "execution_count": 37,
   "metadata": {},
   "outputs": [
    {
     "data": {
      "image/png": "[encoded data removed]",
      "text/plain": [
       "<Figure size 432x288 with 1 Axes>"
      ]
     },
     "metadata": {
      "needs_background": "light"
     },
     "output_type": "display_data"
    }
   ],
   "source": [
    "a=[1,1.6]\n",
    "b=[1,1.6]\n",
    "plt.scatter(y_test,y_pred)\n",
    "plt.plot(a,b,color='red')\n",
    "plt.title(\"y_test vs y_pred graph\")\n",
    "plt.show()"
   ]
  },
  {
   "cell_type": "markdown",
   "metadata": {},
   "source": [
    "<span style='background :yellow' ><span style='color :green' >3)SVM</span></span>"
   ]
  },
  {
   "cell_type": "code",
   "execution_count": 38,
   "metadata": {},
   "outputs": [
    {
     "name": "stderr",
     "output_type": "stream",
     "text": [
      "C:\\Users\\Aditya\\Anaconda3\\lib\\site-packages\\sklearn\\svm\\base.py:193: FutureWarning: The default value of gamma will change from 'auto' to 'scale' in version 0.22 to account better for unscaled features. Set gamma explicitly to 'auto' or 'scale' to avoid this warning.\n",
      "  \"avoid this warning.\", FutureWarning)\n"
     ]
    },
    {
     "data": {
      "text/plain": [
       "SVR(C=1.0, cache_size=200, coef0=0.0, degree=3, epsilon=0.1,\n",
       "    gamma='auto_deprecated', kernel='rbf', max_iter=-1, shrinking=True,\n",
       "    tol=0.001, verbose=False)"
      ]
     },
     "execution_count": 38,
     "metadata": {},
     "output_type": "execute_result"
    }
   ],
   "source": [
    "from sklearn.svm import SVR\n",
    "regressor=SVR(kernel=\"rbf\")\n",
    "regressor.fit(x_train,y_train)"
   ]
  },
  {
   "cell_type": "code",
   "execution_count": 40,
   "metadata": {},
   "outputs": [
    {
     "name": "stdout",
     "output_type": "stream",
     "text": [
      "accuracy is\n",
      "60.01620122933902 %\n",
      "----------Error Table-------------\n",
      "r2 score----------------- 0.6001620122933902\n",
      "mean absolute error------- 0.036026966942017825\n",
      "mean squared error-------- 0.0021102972317027105\n",
      "root mean squared error-------- 0.0459379715671329\n",
      "r squared error----------------- 0.6001620122933902\n"
     ]
    }
   ],
   "source": [
    "from sklearn.metrics import r2_score\n",
    "y_pred=regressor.predict(x_test)\n",
    "from sklearn import metrics\n",
    "from sklearn.metrics import mean_squared_error, mean_absolute_error\n",
    "accuracy=regressor.score(x_test,y_test)\n",
    "print(\"accuracy is\")\n",
    "print(accuracy*100,'%')\n",
    "print(\"----------Error Table-------------\")\n",
    "print(\"r2 score-----------------\",r2_score(y_test,y_pred))\n",
    "print(\"mean absolute error-------\", metrics.mean_absolute_error(y_test, y_pred))\n",
    "print(\"mean squared error--------\", metrics.mean_squared_error(y_test, y_pred))\n",
    "print(\"root mean squared error--------\", np.sqrt(metrics.mean_squared_error(y_test, y_pred)))\n",
    "print(\"r squared error-----------------\", metrics.r2_score(y_test, y_pred))"
   ]
  },
  {
   "cell_type": "code",
   "execution_count": 41,
   "metadata": {},
   "outputs": [
    {
     "data": {
      "image/png": "[encoded data removed]",
      "text/plain": [
       "<Figure size 432x288 with 1 Axes>"
      ]
     },
     "metadata": {
      "needs_background": "light"
     },
     "output_type": "display_data"
    }
   ],
   "source": [
    "a=[1,1.6]\n",
    "b=[1,1.6]\n",
    "plt.scatter(y_test,y_pred)\n",
    "plt.plot(a,b,color='red')\n",
    "plt.title(\"y_test vs y_pred graph\")\n",
    "plt.show()"
   ]
  },
  {
   "cell_type": "markdown",
   "metadata": {},
   "source": [
    "<span style='background :yellow' ><span style='color :green' >4)DECISION TREE</span></span>"
   ]
  },
  {
   "cell_type": "code",
   "execution_count": 42,
   "metadata": {},
   "outputs": [
    {
     "data": {
      "text/plain": [
       "DecisionTreeRegressor(criterion='mse', max_depth=None, max_features=None,\n",
       "                      max_leaf_nodes=None, min_impurity_decrease=0.0,\n",
       "                      min_impurity_split=None, min_samples_leaf=1,\n",
       "                      min_samples_split=2, min_weight_fraction_leaf=0.0,\n",
       "                      presort=False, random_state=1, splitter='best')"
      ]
     },
     "execution_count": 42,
     "metadata": {},
     "output_type": "execute_result"
    }
   ],
   "source": [
    "from sklearn.tree import DecisionTreeRegressor\n",
    "regressor=DecisionTreeRegressor(random_state=1)\n",
    "regressor.fit(x_train,y_train)"
   ]
  },
  {
   "cell_type": "code",
   "execution_count": 43,
   "metadata": {},
   "outputs": [
    {
     "name": "stdout",
     "output_type": "stream",
     "text": [
      "80.50113714442593 %\n",
      "----------Error Table-------------\n",
      "r2 score----------------- 0.8050113714442593\n",
      "mean absolute error------- 0.014327077112199394\n",
      "mean squared error-------- 0.001029126735593276\n",
      "root mean squared error-------- 0.03208000523056809\n",
      "r squared error----------------- 0.8050113714442593\n"
     ]
    }
   ],
   "source": [
    "from sklearn.metrics import r2_score\n",
    "y_pred=regressor.predict(x_test)\n",
    "from sklearn import metrics\n",
    "from sklearn.metrics import mean_squared_error, mean_absolute_error\n",
    "accuracy=regressor.score(x_test,y_test)\n",
    "print(accuracy*100,'%')\n",
    "print(\"----------Error Table-------------\")\n",
    "print(\"r2 score-----------------\",r2_score(y_test,y_pred))\n",
    "print(\"mean absolute error-------\", metrics.mean_absolute_error(y_test, y_pred))\n",
    "print(\"mean squared error--------\", metrics.mean_squared_error(y_test, y_pred))\n",
    "print(\"root mean squared error--------\", np.sqrt(metrics.mean_squared_error(y_test, y_pred)))\n",
    "print(\"r squared error-----------------\", metrics.r2_score(y_test, y_pred))"
   ]
  },
  {
   "cell_type": "code",
   "execution_count": 44,
   "metadata": {},
   "outputs": [
    {
     "data": {
      "image/png": "[encoded data removed]",
      "text/plain": [
       "<Figure size 432x288 with 1 Axes>"
      ]
     },
     "metadata": {
      "needs_background": "light"
     },
     "output_type": "display_data"
    }
   ],
   "source": [
    "a=[1,1.6]\n",
    "b=[1,1.6]\n",
    "plt.scatter(y_test,y_pred)\n",
    "plt.plot(a,b,color='red')\n",
    "plt.title(\"y_test vs y_pred graph\")\n",
    "plt.show()"
   ]
  },
  {
   "cell_type": "markdown",
   "metadata": {},
   "source": []
  },
  {
   "cell_type": "markdown",
   "metadata": {},
   "source": []
  },
  {
   "cell_type": "markdown",
   "metadata": {},
   "source": []
  },
  {
   "cell_type": "markdown",
   "metadata": {},
   "source": []
  },
  {
   "cell_type": "markdown",
   "metadata": {},
   "source": [
    "thanks!"
   ]
  }
 ],
 "metadata": {
  "kernelspec": {
   "display_name": "Python 3",
   "language": "python",
   "name": "python3"
  },
  "language_info": {
   "codemirror_mode": {
    "name": "ipython",
    "version": 3
   },
   "file_extension": ".py",
   "mimetype": "text/x-python",
   "name": "python",
   "nbconvert_exporter": "python",
   "pygments_lexer": "ipython3",
   "version": "3.7.4"
  }
 },
 "nbformat": 4,
 "nbformat_minor": 2
}
